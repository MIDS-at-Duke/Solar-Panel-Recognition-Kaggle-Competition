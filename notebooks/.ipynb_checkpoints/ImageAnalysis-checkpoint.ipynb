{
 "cells": [
  {
   "cell_type": "code",
   "execution_count": 17,
   "metadata": {},
   "outputs": [],
   "source": [
    "'''\n",
    "Import the packages needed for classification\n",
    "'''\n",
    "import numpy as np\n",
    "import matplotlib.pyplot as plt\n",
    "import matplotlib as mpl\n",
    "import pandas as pd\n",
    "from sklearn.model_selection import StratifiedKFold\n",
    "from sklearn.neighbors import KNeighborsClassifier\n",
    "from sklearn.linear_model import LogisticRegression\n",
    "import sklearn.metrics as metrics\n",
    "import cv2\n",
    "from skimage.io import imread, imshow\n",
    "from skimage.transform import resize\n",
    "from skimage.feature import hog\n",
    "from skimage import exposure\n",
    "plt.close()"
   ]
  },
  {
   "cell_type": "code",
   "execution_count": 18,
   "metadata": {},
   "outputs": [],
   "source": [
    "'''\n",
    "Set directory parameters\n",
    "'''\n",
    "# Set the directories for the data and the CSV files that contain ids/labels\n",
    "dir_train_images  = '../data/training/'\n",
    "dir_test_images   = '../data/testing/'\n",
    "dir_train_labels  = '../data/labels_training.csv'\n",
    "dir_test_ids      = '../data/sample_submission.csv'"
   ]
  },
  {
   "cell_type": "code",
   "execution_count": 19,
   "metadata": {},
   "outputs": [],
   "source": [
    "def load_data(dir_data, dir_labels, training = True):\n",
    "    '''\n",
    "    Load each of the image files into memory \n",
    "\n",
    "    While this is feasible with a smaller dataset, for larger datasets,\n",
    "    not all the images would be able to be loaded into memory\n",
    "\n",
    "    When training = True, the labels are also loaded\n",
    "    '''\n",
    "    labels_pd = pd.read_csv(dir_labels)\n",
    "    ids       = labels_pd.id.values\n",
    "    data      = []\n",
    "    for identifier in ids:\n",
    "        fname     = dir_data + identifier.astype(str) + '.tif'\n",
    "        image     = mpl.image.imread(fname)\n",
    "        data.append(image)\n",
    "    data = np.array(data) # Convert to Numpy array\n",
    "    if training:\n",
    "        labels = labels_pd.label.values\n",
    "        return data, labels\n",
    "    else:\n",
    "        return data, ids"
   ]
  },
  {
   "cell_type": "code",
   "execution_count": 186,
   "metadata": {},
   "outputs": [],
   "source": [
    "def preprocess_and_extract_features(data, prc):\n",
    "    '''Preprocess data and extract features\n",
    "    \n",
    "    Preprocess: normalize, scale, repair\n",
    "    Extract features: transformations and dimensionality reduction\n",
    "    \n",
    "    data: X matrix of images/features\n",
    "    prc: string for selected features extraction process -> 'HOG', 'simple'\n",
    "    '''\n",
    "    if prc == 'simple':\n",
    "        # Here, we do something trivially simple: we take the average of the RGB\n",
    "        # values to produce a grey image, transform that into a vector, then\n",
    "        # extract the mean and standard deviation as features.\n",
    "\n",
    "        # Make the image grayscale\n",
    "        data = np.mean(data, axis = 3)\n",
    "\n",
    "        # Vectorize the grayscale matrices\n",
    "        vectorized_data = data.reshape(data.shape[0], -1)\n",
    "\n",
    "        # extract the mean and standard deviation of each sample as features\n",
    "        feature_mean = np.mean(vectorized_data, axis = 1)\n",
    "        feature_std  = np.std(vectorized_data, axis = 1)\n",
    "\n",
    "        # Combine the extracted features into a single feature vector\n",
    "        features = np.stack((feature_mean, feature_std), axis = -1)\n",
    "\n",
    "        return features\n",
    "    \n",
    "    elif prc == 'HOG':\n",
    "        #data = np.array([resize(image, (128, 64)) for image in data])\n",
    "        \n",
    "        data = np.array([cv2.cvtColor(image, cv2.COLOR_BGR2HSV) for image in data])\n",
    "\n",
    "        color1 = np.asarray([25, 0, 100])\n",
    "        color2 = np.asarray([255, 100, 255])\n",
    "\n",
    "        #color1 = np.asarray([81, 99, 114])\n",
    "        #color2 = np.asarray([120, 120, 150])\n",
    "        \n",
    "        data = np.array([cv2.inRange(image, color1, color2) for image in data])\n",
    "        \n",
    "        # Make the image grayscale\n",
    "        #data = np.mean(data, axis = 3)\n",
    "        \n",
    "        get_hog = lambda X: hog(X, orientations = 9, pixels_per_cell = (8, 8),\n",
    "                                cells_per_block = (4, 4), visualize = False, multichannel = False)\n",
    "        features = np.array([get_hog(image) for image in data])\n",
    "\n",
    "        return features"
   ]
  },
  {
   "cell_type": "code",
   "execution_count": 21,
   "metadata": {},
   "outputs": [],
   "source": [
    "def set_classifier():\n",
    "    '''Shared function to select the classifier for both performance evaluation\n",
    "    and testing\n",
    "    '''\n",
    "    return KNeighborsClassifier(n_neighbors = 7)"
   ]
  },
  {
   "cell_type": "code",
   "execution_count": 34,
   "metadata": {},
   "outputs": [],
   "source": [
    "def cv_performance_assessment(X, y, k, clf, prc):\n",
    "    '''Cross validated performance assessment\n",
    "    \n",
    "    X   = training data\n",
    "    y   = training labels\n",
    "    k   = number of folds for cross validation\n",
    "    clf = classifier to use\n",
    "    prc = feature extraction process\n",
    "    \n",
    "    Divide the training data into k folds of training and validation data. \n",
    "    For each fold the classifier will be trained on the training data and\n",
    "    tested on the validation data. The classifier prediction scores are \n",
    "    aggregated and output\n",
    "    '''\n",
    "    # Establish the k folds\n",
    "    prediction_scores = np.empty(y.shape[0], dtype = 'object')\n",
    "    kf = StratifiedKFold(n_splits = k, shuffle = True)\n",
    "    for train_index, val_index in kf.split(X, y):\n",
    "        # Extract the training and validation data for this fold\n",
    "        X_train_l, X_val = X[train_index], X[val_index]\n",
    "        y_train_l        = y[train_index]\n",
    "        \n",
    "        # Train the classifier\n",
    "        X_train_features = preprocess_and_extract_features(X_train_l, prc)\n",
    "        clf              = clf.fit(X_train_features, y_train_l)\n",
    "        \n",
    "        # Test the classifier on the validation data for this fold\n",
    "        X_val_features   = preprocess_and_extract_features(X_val, prc)\n",
    "        cpred            = clf.predict_proba(X_val_features)\n",
    "        \n",
    "        # Save the predictions for this fold\n",
    "        prediction_scores[val_index] = cpred[:, 1]\n",
    "    return prediction_scores"
   ]
  },
  {
   "cell_type": "code",
   "execution_count": 35,
   "metadata": {},
   "outputs": [],
   "source": [
    "def plot_roc(labels, prediction_scores):\n",
    "    '''\n",
    "    Function to plot ROC curve\n",
    "    '''\n",
    "    fpr, tpr, _   = metrics.roc_curve(labels, prediction_scores, pos_label = 1)\n",
    "    auc           = metrics.roc_auc_score(labels, prediction_scores)\n",
    "    legend_string = 'AUC = {:0.3f}'.format(auc)\n",
    "   \n",
    "    plt.plot([0, 1], [0, 1], '--', color = 'gray', label = 'Chance')\n",
    "    plt.plot(fpr, tpr, label = legend_string)\n",
    "    plt.xlabel('False Positive Rate')\n",
    "    plt.ylabel('True Positive Rate')\n",
    "    plt.grid('on')\n",
    "    plt.axis('square')\n",
    "    plt.legend()\n",
    "    plt.tight_layout()"
   ]
  },
  {
   "cell_type": "code",
   "execution_count": 24,
   "metadata": {},
   "outputs": [],
   "source": [
    "'''\n",
    "Loading data\n",
    "'''\n",
    "X_train, y_train = load_data(dir_train_images, dir_train_labels)\n",
    "X_test, ids_test = load_data(dir_test_images, dir_test_ids, training = False)"
   ]
  },
  {
   "cell_type": "code",
   "execution_count": 185,
   "metadata": {},
   "outputs": [
    {
     "data": {
      "image/png": "[encoded data removed]",
      "text/plain": [
       "<Figure size 432x288 with 1 Axes>"
      ]
     },
     "metadata": {
      "needs_background": "light"
     },
     "output_type": "display_data"
    }
   ],
   "source": [
    "'''\n",
    "Sample script for cross validated performance\n",
    "'''\n",
    "# Set parameters for the analysis\n",
    "num_training_folds = 10\n",
    "\n",
    "# Choose which classifier to use\n",
    "clf = set_classifier()\n",
    "\n",
    "# Choose which feature extraction process to use: 'simple', 'HOG'\n",
    "prc = 'HOG'\n",
    "\n",
    "# Perform cross validated performance assessment\n",
    "prediction_scores = cv_performance_assessment(X_train, y_train, num_training_folds, clf, prc)\n",
    "\n",
    "# Compute and plot the ROC curves\n",
    "plot_roc(y_train, prediction_scores)"
   ]
  },
  {
   "cell_type": "code",
   "execution_count": 183,
   "metadata": {},
   "outputs": [],
   "source": [
    "'''\n",
    "Sample script for producing a Kaggle submission\n",
    "'''\n",
    "produce_submission = True # Switch this to True when you're ready to create a submission for Kaggle\n",
    "\n",
    "# Choose which classifier to use\n",
    "clf = set_classifier()\n",
    "\n",
    "# Choose which feature extraction process to use: 'simple', 'HOG'\n",
    "prc = 'HOG'\n",
    "\n",
    "if produce_submission:\n",
    "    # Load data, extract features, and train the classifier on the training data\n",
    "    training_features = preprocess_and_extract_features(X_train, prc)\n",
    "    clf.fit(training_features, y_train)\n",
    "\n",
    "    # Load the test data and test the classifier\n",
    "    test_features  = preprocess_and_extract_features(X_test, prc)\n",
    "    test_scores    = clf.predict_proba(test_features)[:,1]\n",
    "\n",
    "    # Save the predictions to a CSV file for upload to Kaggle\n",
    "    submission_file = pd.DataFrame({'id':    ids_test,\n",
    "                                    'score': test_scores})\n",
    "    submission_file.to_csv('../submission/submission3.csv',\n",
    "                           columns = ['id', 'score'],\n",
    "                           index = False)"
   ]
  },
  {
   "cell_type": "code",
   "execution_count": 175,
   "metadata": {},
   "outputs": [
    {
     "data": {
      "text/plain": [
       "<matplotlib.image.AxesImage at 0x1c36799310>"
      ]
     },
     "execution_count": 175,
     "metadata": {},
     "output_type": "execute_result"
    },
    {
     "data": {
      "image/png": "[encoded data removed]",
      "text/plain": [
       "<Figure size 432x288 with 1 Axes>"
      ]
     },
     "metadata": {
      "needs_background": "light"
     },
     "output_type": "display_data"
    }
   ],
   "source": [
    "img = X_train[8]   # you can read in images with opencv\n",
    "plt.imshow(img)\n"
   ]
  },
  {
   "cell_type": "code",
   "execution_count": 180,
   "metadata": {},
   "outputs": [
    {
     "data": {
      "text/plain": [
       "<matplotlib.image.AxesImage at 0x1c36d1f210>"
      ]
     },
     "execution_count": 180,
     "metadata": {},
     "output_type": "execute_result"
    },
    {
     "data": {
      "image/png": "[encoded data removed]",
      "text/plain": [
       "<Figure size 432x288 with 1 Axes>"
      ]
     },
     "metadata": {
      "needs_background": "light"
     },
     "output_type": "display_data"
    }
   ],
   "source": [
    "img_hsv = cv2.cvtColor(img, cv2.COLOR_BGR2HSV)\n",
    "\n",
    "hsv_color1 = np.asarray([25, 0, 100])\n",
    "hsv_color2 = np.asarray([255, 100, 255])\n",
    "\n",
    "mask = cv2.inRange(img_hsv, hsv_color1, hsv_color2)\n",
    "\n",
    "plt.imshow(mask)"
   ]
  },
  {
   "cell_type": "code",
   "execution_count": 179,
   "metadata": {},
   "outputs": [
    {
     "data": {
      "text/plain": [
       "<matplotlib.image.AxesImage at 0x1c36c06f10>"
      ]
     },
     "execution_count": 179,
     "metadata": {},
     "output_type": "execute_result"
    },
    {
     "data": {
      "image/png": "[encoded data removed]",
      "text/plain": [
       "<Figure size 432x288 with 1 Axes>"
      ]
     },
     "metadata": {
      "needs_background": "light"
     },
     "output_type": "display_data"
    }
   ],
   "source": [
    "hsv_color1 = np.asarray([81, 99, 111])\n",
    "hsv_color2 = np.asarray([120, 120, 150])\n",
    "\n",
    "mask = cv2.inRange(img, hsv_color1, hsv_color2)\n",
    "\n",
    "plt.imshow(mask, cmap = 'gray')"
   ]
  },
  {
   "cell_type": "code",
   "execution_count": 160,
   "metadata": {},
   "outputs": [
    {
     "data": {
      "text/plain": [
       "(101, 101)"
      ]
     },
     "execution_count": 160,
     "metadata": {},
     "output_type": "execute_result"
    }
   ],
   "source": [
    "mask.shape"
   ]
  },
  {
   "cell_type": "code",
   "execution_count": null,
   "metadata": {},
   "outputs": [],
   "source": []
  }
 ],
 "metadata": {
  "kernelspec": {
   "display_name": "Python 3",
   "language": "python",
   "name": "python3"
  },
  "language_info": {
   "codemirror_mode": {
    "name": "ipython",
    "version": 3
   },
   "file_extension": ".py",
   "mimetype": "text/x-python",
   "name": "python",
   "nbconvert_exporter": "python",
   "pygments_lexer": "ipython3",
   "version": "3.7.4"
  }
 },
 "nbformat": 4,
 "nbformat_minor": 2
}
